{
 "cells": [
  {
   "cell_type": "code",
   "execution_count": 1,
   "metadata": {
    "collapsed": true
   },
   "outputs": [],
   "source": [
    "#coding:utf-8\n",
    "import os\n",
    "import pymysql\n",
    "import pandas as pd\n",
    "import matplotlib.pyplot as plt\n",
    "%matplotlib inline"
   ]
  },
  {
   "cell_type": "code",
   "execution_count": 2,
   "metadata": {
    "collapsed": false,
    "scrolled": true
   },
   "outputs": [],
   "source": [
    "#接続情報\n",
    "\n",
    "dbh = pymysql.connect(\n",
    "         host=os.getenv('MYSQL_HOST'),\n",
    "         user=os.getenv('MYSQL_USER'),\n",
    "         password=os.getenv('MYSQL_PASSWORD'),\n",
    "         db=os.getenv('MYSQL_DATABASE'),\n",
    "         charset='utf8',\n",
    "         cursorclass=pymysql.cursors.DictCursor\n",
    "    )"
   ]
  },
  {
   "cell_type": "code",
   "execution_count": 3,
   "metadata": {
    "collapsed": false,
    "scrolled": true
   },
   "outputs": [
    {
     "data": {
      "image/png": "[encoded data removed]",
      "text/plain": [
       "<matplotlib.figure.Figure at 0x1115a41d0>"
      ]
     },
     "metadata": {},
     "output_type": "display_data"
    }
   ],
   "source": [
    "query = '''\n",
    "  SELECT\n",
    "    DATE_FORMAT(created_at, '%Y%m') yyyymm,\n",
    "    count(*) cnt\n",
    "  FROM\n",
    "    users\n",
    "  WHERE\n",
    "    created_at > '2018-01-01'\n",
    "  GROUP BY\n",
    "    yyyymm\n",
    "'''\n",
    "df = pd.read_sql_query(\n",
    "    query,\n",
    "    dbh)\n",
    "df.index = df['yyyymm']\n",
    "p = df.tail(10).plot.bar()"
   ]
  },
  {
   "cell_type": "code",
   "execution_count": 4,
   "metadata": {
    "collapsed": true
   },
   "outputs": [],
   "source": [
    "dbh.close()"
   ]
  }
 ],
 "metadata": {
  "kernelspec": {
   "display_name": "Python 3",
   "language": "python",
   "name": "python3"
  },
  "language_info": {
   "codemirror_mode": {
    "name": "ipython",
    "version": 3
   },
   "file_extension": ".py",
   "mimetype": "text/x-python",
   "name": "python",
   "nbconvert_exporter": "python",
   "pygments_lexer": "ipython3",
   "version": "3.6.0"
  }
 },
 "nbformat": 4,
 "nbformat_minor": 2
}
