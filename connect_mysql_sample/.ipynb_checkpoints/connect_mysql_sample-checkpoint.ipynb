{
 "cells": [
  {
   "cell_type": "code",
   "execution_count": null,
   "metadata": {
    "collapsed": true
   },
   "outputs": [],
   "source": [
    "#coding:utf-8\n",
    "import pymysql\n",
    "\n",
    "#接続情報\n",
    "dbh = pymysql.connect(\n",
    "         host='localhost',\n",
    "         user='paiza_local',\n",
    "         password='xxxxxx',\n",
    "         db='paiza_local',\n",
    "         charset='utf8',\n",
    "         cursorclass=pymysql.cursors.DictCursor\n",
    "    )\n",
    "# development:\n",
    "#  <<: *default\n",
    "#  database: paiza_local\n",
    "#  username: paiza_local\n",
    "#  password: xxxxxx\n",
    "#  host: localhost\n",
    "#カーソル\n",
    "stmt = dbh.cursor()\n",
    "\n",
    "#SQL\n",
    "sql = \"select * from users limit 0,5\"\n",
    "\n",
    "#実行\n",
    "stmt.execute(sql)\n",
    "\n",
    "#取得\n",
    "rows = stmt.fetchall()\n",
    "\n",
    "#ループ\n",
    "for row in rows:\n",
    "    print(row)\n",
    "\n",
    "#掃除\n",
    "stmt.close();\n",
    "dbh.close();\n"
   ]
  }
 ],
 "metadata": {
  "kernelspec": {
   "display_name": "Python 3",
   "language": "python",
   "name": "python3"
  },
  "language_info": {
   "codemirror_mode": {
    "name": "ipython",
    "version": 3
   },
   "file_extension": ".py",
   "mimetype": "text/x-python",
   "name": "python",
   "nbconvert_exporter": "python",
   "pygments_lexer": "ipython3",
   "version": "3.6.0"
  }
 },
 "nbformat": 4,
 "nbformat_minor": 2
}
