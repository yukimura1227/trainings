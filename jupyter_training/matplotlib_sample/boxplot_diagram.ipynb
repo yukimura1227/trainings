{
 "cells": [
  {
   "cell_type": "code",
   "execution_count": 1,
   "metadata": {
    "collapsed": true
   },
   "outputs": [],
   "source": [
    "import matplotlib.pyplot as plt\n",
    "import pandas as pd\n",
    "import numpy as np\n",
    "import os\n",
    "plt.style.use('ggplot')"
   ]
  },
  {
   "cell_type": "code",
   "execution_count": 2,
   "metadata": {
    "collapsed": false
   },
   "outputs": [
    {
     "data": {
      "image/png": "[encoded data removed]",
      "text/plain": [
       "<matplotlib.figure.Figure at 0x114d83908>"
      ]
     },
     "metadata": {},
     "output_type": "display_data"
    }
   ],
   "source": [
    "x = [1, 2, 3, 3, 11, 20]\n",
    "\n",
    "fig = plt.figure()\n",
    "ax  = fig.add_subplot(1, 1, 1)\n",
    "\n",
    "ax.boxplot(x)\n",
    "\n",
    "plt.show()"
   ]
  },
  {
   "cell_type": "code",
   "execution_count": 3,
   "metadata": {
    "collapsed": false
   },
   "outputs": [
    {
     "data": {
      "image/png": "[encoded data removed]",
      "text/plain": [
       "<matplotlib.figure.Figure at 0x114d83470>"
      ]
     },
     "metadata": {},
     "output_type": "display_data"
    }
   ],
   "source": [
    "# 複数のリストをリストにセット\n",
    "x = [[1, 2, 3, 3, 11, 20], [1, 2, 9, 10 ,15, 16]]\n",
    "labels = ['A', 'B']\n",
    "\n",
    "fig2 = plt.figure()\n",
    "ax2  = fig2.add_subplot(1, 1, 1)\n",
    "\n",
    "ax2.boxplot(x, labels=labels)\n",
    "\n",
    "plt.show()"
   ]
  },
  {
   "cell_type": "code",
   "execution_count": 4,
   "metadata": {
    "collapsed": false
   },
   "outputs": [
    {
     "data": {
      "text/html": [
       "<div>\n",
       "<table border=\"1\" class=\"dataframe\">\n",
       "  <thead>\n",
       "    <tr style=\"text-align: right;\">\n",
       "      <th></th>\n",
       "      <th>name</th>\n",
       "      <th>genre</th>\n",
       "      <th>type</th>\n",
       "      <th>episodes</th>\n",
       "      <th>rating</th>\n",
       "      <th>members</th>\n",
       "    </tr>\n",
       "    <tr>\n",
       "      <th>anime_id</th>\n",
       "      <th></th>\n",
       "      <th></th>\n",
       "      <th></th>\n",
       "      <th></th>\n",
       "      <th></th>\n",
       "      <th></th>\n",
       "    </tr>\n",
       "  </thead>\n",
       "  <tbody>\n",
       "    <tr>\n",
       "      <th>32281</th>\n",
       "      <td>Kimi no Na wa.</td>\n",
       "      <td>Drama, Romance, School, Supernatural</td>\n",
       "      <td>Movie</td>\n",
       "      <td>1</td>\n",
       "      <td>9.37</td>\n",
       "      <td>200630</td>\n",
       "    </tr>\n",
       "    <tr>\n",
       "      <th>5114</th>\n",
       "      <td>Fullmetal Alchemist: Brotherhood</td>\n",
       "      <td>Action, Adventure, Drama, Fantasy, Magic, Mili...</td>\n",
       "      <td>TV</td>\n",
       "      <td>64</td>\n",
       "      <td>9.26</td>\n",
       "      <td>793665</td>\n",
       "    </tr>\n",
       "    <tr>\n",
       "      <th>28977</th>\n",
       "      <td>Gintama°</td>\n",
       "      <td>Action, Comedy, Historical, Parody, Samurai, S...</td>\n",
       "      <td>TV</td>\n",
       "      <td>51</td>\n",
       "      <td>9.25</td>\n",
       "      <td>114262</td>\n",
       "    </tr>\n",
       "    <tr>\n",
       "      <th>9253</th>\n",
       "      <td>Steins;Gate</td>\n",
       "      <td>Sci-Fi, Thriller</td>\n",
       "      <td>TV</td>\n",
       "      <td>24</td>\n",
       "      <td>9.17</td>\n",
       "      <td>673572</td>\n",
       "    </tr>\n",
       "    <tr>\n",
       "      <th>9969</th>\n",
       "      <td>Gintama'</td>\n",
       "      <td>Action, Comedy, Historical, Parody, Samurai, S...</td>\n",
       "      <td>TV</td>\n",
       "      <td>51</td>\n",
       "      <td>9.16</td>\n",
       "      <td>151266</td>\n",
       "    </tr>\n",
       "  </tbody>\n",
       "</table>\n",
       "</div>"
      ],
      "text/plain": [
       "                                      name  \\\n",
       "anime_id                                     \n",
       "32281                       Kimi no Na wa.   \n",
       "5114      Fullmetal Alchemist: Brotherhood   \n",
       "28977                             Gintama°   \n",
       "9253                           Steins;Gate   \n",
       "9969                              Gintama'   \n",
       "\n",
       "                                                      genre   type  episodes  \\\n",
       "anime_id                                                                       \n",
       "32281                  Drama, Romance, School, Supernatural  Movie         1   \n",
       "5114      Action, Adventure, Drama, Fantasy, Magic, Mili...     TV        64   \n",
       "28977     Action, Comedy, Historical, Parody, Samurai, S...     TV        51   \n",
       "9253                                       Sci-Fi, Thriller     TV        24   \n",
       "9969      Action, Comedy, Historical, Parody, Samurai, S...     TV        51   \n",
       "\n",
       "          rating  members  \n",
       "anime_id                   \n",
       "32281       9.37   200630  \n",
       "5114        9.26   793665  \n",
       "28977       9.25   114262  \n",
       "9253        9.17   673572  \n",
       "9969        9.16   151266  "
      ]
     },
     "execution_count": 4,
     "metadata": {},
     "output_type": "execute_result"
    }
   ],
   "source": [
    "df = pd.read_csv('../sample_data/anime_master.csv', index_col='anime_id')\n",
    "\n",
    "df.head()"
   ]
  },
  {
   "cell_type": "code",
   "execution_count": 5,
   "metadata": {
    "collapsed": false
   },
   "outputs": [
    {
     "data": {
      "image/png": "[encoded data removed]",
      "text/plain": [
       "<matplotlib.figure.Figure at 0x114d954a8>"
      ]
     },
     "metadata": {},
     "output_type": "display_data"
    }
   ],
   "source": [
    "# 配給種別ごとのエピソードを可視化\n",
    "labels = []\n",
    "types_list = []\n",
    "\n",
    "for label, df_per_type in df.groupby('type'):\n",
    "    labels.append(label)\n",
    "    types_list.append(df_per_type['episodes'].tolist())\n",
    "\n",
    "fig3 = plt.figure()\n",
    "ax3  = fig3.add_subplot(1, 1, 1)\n",
    "\n",
    "ax3.boxplot(types_list, labels = labels)\n",
    "\n",
    "plt.show()"
   ]
  },
  {
   "cell_type": "code",
   "execution_count": 6,
   "metadata": {
    "collapsed": false
   },
   "outputs": [
    {
     "data": {
      "image/png": "[encoded data removed]",
      "text/plain": [
       "<matplotlib.figure.Figure at 0x1192392e8>"
      ]
     },
     "metadata": {},
     "output_type": "display_data"
    }
   ],
   "source": [
    "# 描画範囲を限定した箱ひげ図\n",
    "fig4 = plt.figure()\n",
    "ax4  = fig4.add_subplot(1, 1, 1)\n",
    "\n",
    "ax4.boxplot(types_list, labels = labels)\n",
    "\n",
    "# Y軸の描画範囲を0から100までに限定\n",
    "ax4.set_ylim(0, 100)\n",
    "\n",
    "plt.show()"
   ]
  },
  {
   "cell_type": "code",
   "execution_count": 7,
   "metadata": {
    "collapsed": false
   },
   "outputs": [
    {
     "data": {
      "text/plain": [
       "count    3330.0\n",
       "mean       37.5\n",
       "std        83.3\n",
       "min         3.0\n",
       "25%        13.0\n",
       "50%        25.0\n",
       "75%        43.0\n",
       "max      1818.0\n",
       "Name: episodes, dtype: float64"
      ]
     },
     "execution_count": 7,
     "metadata": {},
     "output_type": "execute_result"
    }
   ],
   "source": [
    "# 四分位点の値を確認\n",
    "df['episodes'][df['type'] == 'TV'].describe().round(1)"
   ]
  },
  {
   "cell_type": "code",
   "execution_count": 8,
   "metadata": {
    "collapsed": false
   },
   "outputs": [
    {
     "data": {
      "image/png": "[encoded data removed]",
      "text/plain": [
       "<matplotlib.figure.Figure at 0x1194d0c50>"
      ]
     },
     "metadata": {},
     "output_type": "display_data"
    }
   ],
   "source": [
    "# 箱ひげ図の書式を一括設定する\n",
    "\n",
    "# ① データセットを作成する\n",
    "np.random.seed(3)\n",
    "dataset = [np.random.normal(20 + mu, 5, 1000) for mu in range(1,5)]\n",
    "\n",
    "# ② 書式のdictionaryを作成する\n",
    "# はずれ値の書式\n",
    "flierprop = {'color': '#EC407A',\n",
    "            'marker': 'o',\n",
    "            'markerfacecolor': '#2196F3',\n",
    "            'markeredgecolor': 'white',\n",
    "            'markersize': 5,\n",
    "            'linestyle': 'None',\n",
    "            'linewidth': 0.1}\n",
    "# 箱の書式設定\n",
    "boxprop = {'color': '#2196F3',\n",
    "           'facecolor': '#BBDEFB',\n",
    "           'linewidth': 1,\n",
    "           'linestyle': '-'}\n",
    "# ヒゲの書式設定\n",
    "whiskerprop = {'color': '#2196F3',\n",
    "           'linewidth': 1,\n",
    "           'linestyle': '--'}\n",
    "# ヒゲ末端キャップの書式設定\n",
    "capprop = {'color': '#2196F3',\n",
    "           'linewidth': 2,\n",
    "           'linestyle': ':'}\n",
    "# 中央値の書式設定\n",
    "medianprop = {'color': '#2196F3',\n",
    "           'linewidth': 2,\n",
    "           'linestyle': '-'}\n",
    "\n",
    "# 平均値の書式設定\n",
    "meanprop = {'color': '#2196F3',\n",
    "           'marker': '^',\n",
    "           'markerfacecolor': 'white',\n",
    "           'markeredgecolor': 'white',\n",
    "           'markersize': 10,\n",
    "           'linewidth': 1,\n",
    "           'linestyle': ''}\n",
    "\n",
    "# ③描画する\n",
    "fig = plt.figure()\n",
    "ax = fig.add_subplot(1, 1, 1)\n",
    "ax.boxplot(\n",
    "    dataset,\n",
    "    patch_artist='Patch', # 書式を設定する場合はPatchを設定する\n",
    "    labels=['A','B','C','D'],\n",
    "    showmeans = True,\n",
    "    flierprops   = flierprop,\n",
    "    boxprops     = boxprop,\n",
    "    whiskerprops = whiskerprop,\n",
    "    capprops     = capprop,\n",
    "    medianprops  = medianprop,\n",
    "    meanprops    = meanprop\n",
    ")\n",
    "plt.show()\n"
   ]
  },
  {
   "cell_type": "code",
   "execution_count": 9,
   "metadata": {
    "collapsed": false
   },
   "outputs": [
    {
     "data": {
      "image/png": "[encoded data removed]",
      "text/plain": [
       "<matplotlib.figure.Figure at 0x119695240>"
      ]
     },
     "metadata": {},
     "output_type": "display_data"
    }
   ],
   "source": [
    "# 箱ひげ図の書式をボックスごとに書式設定する\n",
    "\n",
    "# ① データセットを作成する\n",
    "np.random.seed(3)\n",
    "dataset = [np.random.normal(20 + mu, 5, 1000) for mu in range(1,5)]\n",
    "\n",
    "fig = plt.figure()\n",
    "ax = fig.add_subplot(1, 1, 1)\n",
    "bp = ax.boxplot(\n",
    "    dataset,\n",
    "    patch_artist='Patch', # 書式を設定する場合はPatchを設定する\n",
    "    labels=['A','B','C','D'],\n",
    "    meanline  = True,\n",
    "    showmeans = True\n",
    ")\n",
    "\n",
    "# カラーセット\n",
    "colors1 = ['#2196F3', '#43A037', '#FBC02D', '#FB8C00']\n",
    "colors2 = ['#BBDEFB', '#C8E6C9', '#FFF9CA', '#FFE0B2']\n",
    "\n",
    "# 上下に分かれた要素に設定するための用の数列\n",
    "n = [0, 0, 1, 1, 2, 2, 3, 3]\n",
    "\n",
    "# 書式設定\n",
    "# 箱とはずれ値、中央値の書式設定\n",
    "for params in zip(bp['boxes'], bp['fliers'], bp['medians'], colors1, colors2):\n",
    "    bpb, bpf, med, color1, color2 = params\n",
    "    \n",
    "    # 箱の書式設定\n",
    "    bpb.set_color(color1)\n",
    "    bpb.set_facecolor(color2)\n",
    "    bpb.set_linewidth(2)\n",
    "    \n",
    "    # 外れ値の書式設定\n",
    "    bpf.set(marker='^', color=color2)\n",
    "    bpf.set_markeredgecolor('white')\n",
    "    bpf.set_markerfacecolor(color1)\n",
    "    \n",
    "    # 中央値の書式設定\n",
    "    med.set_color(color1)\n",
    "    med.set_linewidth(2)\n",
    "\n",
    "# ヒゲとヒゲの末端キャップの書式設定\n",
    "for bpc, bpw, m in zip(bp['caps'], bp['whiskers'], n):\n",
    "    bpc.set_color(colors1[m])\n",
    "    bpc.set_linewidth(2)\n",
    "    bpw.set_color(colors1[m])\n",
    "    bpw.set_linewidth(2)\n",
    "\n",
    "# 平均値の書式設定\n",
    "for mean, color2 in zip(bp['means'], colors2):\n",
    "    mean.set_color('grey')\n",
    "    mean.set_linewidth(2)\n",
    "    mean.set_linestyle('--')\n",
    "\n",
    "plt.show()\n"
   ]
  },
  {
   "cell_type": "code",
   "execution_count": null,
   "metadata": {
    "collapsed": true
   },
   "outputs": [],
   "source": []
  }
 ],
 "metadata": {
  "kernelspec": {
   "display_name": "Python 3",
   "language": "python",
   "name": "python3"
  },
  "language_info": {
   "codemirror_mode": {
    "name": "ipython",
    "version": 3
   },
   "file_extension": ".py",
   "mimetype": "text/x-python",
   "name": "python",
   "nbconvert_exporter": "python",
   "pygments_lexer": "ipython3",
   "version": "3.6.0"
  }
 },
 "nbformat": 4,
 "nbformat_minor": 2
}
