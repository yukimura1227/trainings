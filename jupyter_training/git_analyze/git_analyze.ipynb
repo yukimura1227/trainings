{
 "cells": [
  {
   "cell_type": "code",
   "execution_count": 1,
   "metadata": {},
   "outputs": [],
   "source": [
    "import os\n",
    "import subprocess"
   ]
  },
  {
   "cell_type": "code",
   "execution_count": 2,
   "metadata": {},
   "outputs": [
    {
     "data": {
      "text/plain": [
       "'/Users/m1049/projects/personal/trainings/jupyter_training'"
      ]
     },
     "execution_count": 2,
     "metadata": {},
     "output_type": "execute_result"
    }
   ],
   "source": [
    "current_dir=%pwd\n",
    "current_dir"
   ]
  },
  {
   "cell_type": "code",
   "execution_count": 18,
   "metadata": {},
   "outputs": [],
   "source": [
    "since='2020-03-01'\n",
    "until='2020-06-01'"
   ]
  },
  {
   "cell_type": "code",
   "execution_count": 8,
   "metadata": {},
   "outputs": [],
   "source": [
    "projects=['authenticate_client', 'authenticate', 'paiza', 'botchi_engine', 'paiza_scoring', 'cgc_engine', 'infra', 'paiza_e2e_test', 'design_system']"
   ]
  },
  {
   "cell_type": "code",
   "execution_count": 19,
   "metadata": {},
   "outputs": [
    {
     "name": "stdout",
     "output_type": "stream",
     "text": [
      "/Users/m1049/projects/authenticate_client\n",
      "since=2020-03-01-until=2020-06-01\n",
      "tatsuya.shimizu:        3\n",
      "\n",
      "/Users/m1049/projects/authenticate\n",
      "since=2020-03-01-until=2020-06-01\n",
      "Hiroyuki Takamura:        0\n",
      "\n",
      "Naoki Fujita:        1\n",
      "\n",
      "tatsuya.shimizu:        6\n",
      "\n",
      "yukimura1227:        2\n",
      "\n",
      "/Users/m1049/projects/paiza\n",
      "since=2020-03-01-until=2020-06-01\n",
      "Hiroyuki Takamura:        7\n",
      "\n",
      "Kazuki Sato:        1\n",
      "\n",
      "M１０７３:       14\n",
      "\n",
      "Naoki Fujita:       53\n",
      "\n",
      "NaokiFujita:      106\n",
      "\n",
      "Tsuneo Yoshioka:        0\n",
      "\n",
      "Yoshioka Tsuneo:        4\n",
      "\n",
      "dependabot-preview[bot]:        0\n",
      "\n",
      "kioa:       14\n",
      "\n",
      "kiri1120:       91\n",
      "\n",
      "moipon:       20\n",
      "\n",
      "purin:        0\n",
      "\n",
      "puriso:      100\n",
      "\n",
      "sanae.horie:        6\n",
      "\n",
      "shoichinishiguchi:      348\n",
      "\n",
      "takahashihideaki:        2\n",
      "\n",
      "tatsuya.shimizu:      183\n",
      "\n",
      "yukaito:        4\n",
      "\n",
      "yukimura1227:      295\n",
      "\n",
      "/Users/m1049/projects/botchi_engine\n",
      "since=2020-03-01-until=2020-06-01\n",
      "Hiroyuki Takamura:        0\n",
      "\n",
      "Kazuki Sato:        0\n",
      "\n",
      "kiri1120:        3\n",
      "\n",
      "tatsuya.shimizu:        1\n",
      "\n",
      "yukimura1227:        1\n",
      "\n",
      "/Users/m1049/projects/paiza_scoring\n",
      "since=2020-03-01-until=2020-06-01\n",
      "/Users/m1049/projects/cgc_engine\n",
      "since=2020-03-01-until=2020-06-01\n",
      "Hiroyuki Takamura:        0\n",
      "\n",
      "Kazuki Sato:        2\n",
      "\n",
      "kioa:        8\n",
      "\n",
      "kiri1120:       28\n",
      "\n",
      "yukimura1227:        2\n",
      "\n",
      "/Users/m1049/projects/infra\n",
      "since=2020-03-01-until=2020-06-01\n",
      "Akira Shinohara:        1\n",
      "\n",
      "Hiroyuki Takamura:        0\n",
      "\n",
      "Naoki Fujita:        1\n",
      "\n",
      "purin:        0\n",
      "\n",
      "puriso:        1\n",
      "\n",
      "shoichinishiguchi:        3\n",
      "\n",
      "tatsuya.shimizu:       15\n",
      "\n",
      "yukimura1227:        4\n",
      "\n",
      "/Users/m1049/projects/paiza_e2e_test\n",
      "since=2020-03-01-until=2020-06-01\n",
      "/Users/m1049/projects/design_system\n",
      "since=2020-03-01-until=2020-06-01\n",
      "Hiroyuki Takamura:        0\n",
      "\n",
      "Masamichi Uehara:       60\n",
      "\n",
      "Shuto:       12\n",
      "\n",
      "dependabot-preview[bot]:        0\n",
      "\n",
      "shoichinishiguchi:       18\n",
      "\n",
      "tatsuya.shimizu:        1\n",
      "\n",
      "yukimura1227:       19\n",
      "\n"
     ]
    }
   ],
   "source": [
    "for project in projects:\n",
    "    project_dir='~/projects/{project}'.format(project=project)\n",
    "    %cd $project_dir\n",
    "    print('since={since}-until={until}'.format(since=since, until=until))\n",
    "    listup_authors_command = 'git log --since={since} --until={until} --pretty=format:\"%an\" | sort | uniq'.format(since=since,until=until)\n",
    "    authors = subprocess.check_output(listup_authors_command, shell=True).decode('utf-8').splitlines()\n",
    "    for author in authors:\n",
    "        line_count_by_authors_command='git log --since={since} --until={until} --author=\"{author}\" --oneline --no-merges | wc -l'.format(since=since, until=until, author=author)\n",
    "        count = subprocess.check_output(line_count_by_authors_command, shell=True).decode('utf-8')\n",
    "        print('{author}: {count}'.format(author=author,count=count))"
   ]
  },
  {
   "cell_type": "code",
   "execution_count": 6,
   "metadata": {},
   "outputs": [],
   "source": [
    "!cd {current_dir}"
   ]
  }
 ],
 "metadata": {
  "kernelspec": {
   "display_name": "Python 3",
   "language": "python",
   "name": "python3"
  },
  "language_info": {
   "codemirror_mode": {
    "name": "ipython",
    "version": 3
   },
   "file_extension": ".py",
   "mimetype": "text/x-python",
   "name": "python",
   "nbconvert_exporter": "python",
   "pygments_lexer": "ipython3",
   "version": "3.6.9"
  }
 },
 "nbformat": 4,
 "nbformat_minor": 2
}
