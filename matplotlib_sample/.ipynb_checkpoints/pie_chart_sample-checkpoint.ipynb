{
 "cells": [
  {
   "cell_type": "code",
   "execution_count": 1,
   "metadata": {
    "collapsed": true
   },
   "outputs": [],
   "source": [
    "import matplotlib.pyplot as plt\n",
    "plt.style.use('ggplot')\n",
    "\n",
    "import os\n",
    "import pandas as pd"
   ]
  },
  {
   "cell_type": "code",
   "execution_count": 2,
   "metadata": {
    "collapsed": false
   },
   "outputs": [
    {
     "data": {
      "image/png": "[encoded data removed]",
      "text/plain": [
       "<matplotlib.figure.Figure at 0x115453ba8>"
      ]
     },
     "metadata": {},
     "output_type": "display_data"
    }
   ],
   "source": [
    "labels = ['自転車', 'バス', '車']\n",
    "sizes = [25, 40, 35]\n",
    "\n",
    "fig = plt.figure(figsize=(3,3))\n",
    "ax = fig.add_subplot(1,1,1)\n",
    "\n",
    "# 円グラフの描画\n",
    "ax.pie(sizes, labels=labels)\n",
    "\n",
    "plt.show()"
   ]
  },
  {
   "cell_type": "code",
   "execution_count": 3,
   "metadata": {
    "collapsed": false
   },
   "outputs": [
    {
     "data": {
      "image/png": "[encoded data removed]",
      "text/plain": [
       "<matplotlib.figure.Figure at 0x11546ce48>"
      ]
     },
     "metadata": {},
     "output_type": "display_data"
    }
   ],
   "source": [
    "# 円グラフの書式を設定するサンプル\n",
    "fig = plt.figure(figsize=(3,3))\n",
    "ax = fig.add_subplot(1, 1, 1)\n",
    "\n",
    "# 扇形の書式設定用dictionary\n",
    "wedge_props = {'edgecolor': 'black', 'linewidth': 2}\n",
    "\n",
    "# テキストの書式設定用dictionary\n",
    "text_props = {'fontsize': 18}\n",
    "\n",
    "ax.pie(sizes,\n",
    "      explode=(0., 0.05, 0),\n",
    "      labels=labels,\n",
    "      autopct='%1.0f%%',\n",
    "      pctdistance=0.5,\n",
    "      shadow=False,\n",
    "      labeldistance=1.35,\n",
    "      startangle=90,\n",
    "      radius=0.3,\n",
    "      counterclock=False,\n",
    "      wedgeprops=wedge_props,\n",
    "      textprops=text_props,\n",
    "      center=(0.5, 0.5),\n",
    "      frame=True)\n",
    "\n",
    "plt.show()"
   ]
  },
  {
   "cell_type": "code",
   "execution_count": 4,
   "metadata": {
    "collapsed": false
   },
   "outputs": [
    {
     "data": {
      "text/plain": [
       "<bound method NDFrame.head of                    Movie     Music        ONA        OVA    Special  \\\n",
       "genre                                                                 \n",
       "Comedy         7293127.0   20860.0  1477266.0  5614758.0  6659293.0   \n",
       "Action        10224960.0   77054.0   524907.0  5793680.0  3412689.0   \n",
       "Drama          9034099.0  100734.0   188427.0  3043374.0  1915578.0   \n",
       "Romance        5245386.0   42811.0   411331.0  3143167.0  2015820.0   \n",
       "Supernatural   5452779.0    9189.0   192989.0  2696715.0  2336723.0   \n",
       "Fantasy        8019406.0   43962.0   188937.0  2754224.0  2504131.0   \n",
       "Shounen        5698808.0       NaN    97833.0  3861296.0  2591988.0   \n",
       "School         1512533.0    5496.0   523223.0  2417660.0  2661425.0   \n",
       "Adventure      9485223.0   42829.0    70431.0  2373765.0  2052024.0   \n",
       "Sci-Fi         6967146.0  154801.0   415311.0  3358525.0  1616450.0   \n",
       "\n",
       "                      TV  \n",
       "genre                     \n",
       "Comedy        65420862.0  \n",
       "Action        63364032.0  \n",
       "Drama         41011557.0  \n",
       "Romance       40703388.0  \n",
       "Supernatural  38956520.0  \n",
       "Fantasy       34932563.0  \n",
       "Shounen       35532847.0  \n",
       "School        35489099.0  \n",
       "Adventure     27529975.0  \n",
       "Sci-Fi        28072322.0  >"
      ]
     },
     "execution_count": 4,
     "metadata": {},
     "output_type": "execute_result"
    }
   ],
   "source": [
    "df = pd.read_csv('../sample_data/anime_genre_top10_pivoted.csv', index_col='genre')\n",
    "df.head"
   ]
  },
  {
   "cell_type": "code",
   "execution_count": 21,
   "metadata": {
    "collapsed": false
   },
   "outputs": [
    {
     "data": {
      "text/plain": [
       "genre\n",
       "Comedy          65420862.0\n",
       "Action          63364032.0\n",
       "Drama           41011557.0\n",
       "Romance         40703388.0\n",
       "Supernatural    38956520.0\n",
       "Shounen         35532847.0\n",
       "School          35489099.0\n",
       "Fantasy         34932563.0\n",
       "Sci-Fi          28072322.0\n",
       "Adventure       27529975.0\n",
       "Name: TV, dtype: float64"
      ]
     },
     "execution_count": 21,
     "metadata": {},
     "output_type": "execute_result"
    }
   ],
   "source": [
    "tv_df = df.sort_values(by='TV', ascending=False)['TV']\n",
    "\n",
    "tv_df"
   ]
  },
  {
   "cell_type": "code",
   "execution_count": 22,
   "metadata": {
    "collapsed": false
   },
   "outputs": [
    {
     "data": {
      "text/plain": [
       "genre\n",
       "Action          10224960.0\n",
       "Adventure        9485223.0\n",
       "Drama            9034099.0\n",
       "Fantasy          8019406.0\n",
       "Comedy           7293127.0\n",
       "Sci-Fi           6967146.0\n",
       "Shounen          5698808.0\n",
       "Supernatural     5452779.0\n",
       "Romance          5245386.0\n",
       "School           1512533.0\n",
       "Name: Movie, dtype: float64"
      ]
     },
     "execution_count": 22,
     "metadata": {},
     "output_type": "execute_result"
    }
   ],
   "source": [
    "movie_df = df.sort_values(by='Movie', ascending=False)['Movie']\n",
    "\n",
    "movie_df"
   ]
  },
  {
   "cell_type": "code",
   "execution_count": 24,
   "metadata": {
    "collapsed": false
   },
   "outputs": [
    {
     "ename": "TypeError",
     "evalue": "pie() got an unexpected keyword argument 'startrange'",
     "output_type": "error",
     "traceback": [
      "\u001b[0;31m---------------------------------------------------------------------------\u001b[0m",
      "\u001b[0;31mTypeError\u001b[0m                                 Traceback (most recent call last)",
      "\u001b[0;32m<ipython-input-24-c9e206115747>\u001b[0m in \u001b[0;36m<module>\u001b[0;34m()\u001b[0m\n\u001b[1;32m     18\u001b[0m        \u001b[0mcolors\u001b[0m\u001b[0;34m=\u001b[0m\u001b[0mcolors1\u001b[0m\u001b[0;34m,\u001b[0m\u001b[0;34m\u001b[0m\u001b[0m\n\u001b[1;32m     19\u001b[0m        \u001b[0mstartrange\u001b[0m\u001b[0;34m=\u001b[0m\u001b[0;36m90\u001b[0m\u001b[0;34m,\u001b[0m\u001b[0;34m\u001b[0m\u001b[0m\n\u001b[0;32m---> 20\u001b[0;31m        counterclock=False)\n\u001b[0m\u001b[1;32m     21\u001b[0m \u001b[0;34m\u001b[0m\u001b[0m\n\u001b[1;32m     22\u001b[0m ax2.pie(tv_df,\n",
      "\u001b[0;32m/Users/yukimura1227/.pyenv/versions/anaconda3-4.3.0/lib/python3.6/site-packages/matplotlib/__init__.py\u001b[0m in \u001b[0;36minner\u001b[0;34m(ax, *args, **kwargs)\u001b[0m\n\u001b[1;32m   1890\u001b[0m                     warnings.warn(msg % (label_namer, func.__name__),\n\u001b[1;32m   1891\u001b[0m                                   RuntimeWarning, stacklevel=2)\n\u001b[0;32m-> 1892\u001b[0;31m             \u001b[0;32mreturn\u001b[0m \u001b[0mfunc\u001b[0m\u001b[0;34m(\u001b[0m\u001b[0max\u001b[0m\u001b[0;34m,\u001b[0m \u001b[0;34m*\u001b[0m\u001b[0margs\u001b[0m\u001b[0;34m,\u001b[0m \u001b[0;34m**\u001b[0m\u001b[0mkwargs\u001b[0m\u001b[0;34m)\u001b[0m\u001b[0;34m\u001b[0m\u001b[0m\n\u001b[0m\u001b[1;32m   1893\u001b[0m         \u001b[0mpre_doc\u001b[0m \u001b[0;34m=\u001b[0m \u001b[0minner\u001b[0m\u001b[0;34m.\u001b[0m\u001b[0m__doc__\u001b[0m\u001b[0;34m\u001b[0m\u001b[0m\n\u001b[1;32m   1894\u001b[0m         \u001b[0;32mif\u001b[0m \u001b[0mpre_doc\u001b[0m \u001b[0;32mis\u001b[0m \u001b[0;32mNone\u001b[0m\u001b[0;34m:\u001b[0m\u001b[0;34m\u001b[0m\u001b[0m\n",
      "\u001b[0;31mTypeError\u001b[0m: pie() got an unexpected keyword argument 'startrange'"
     ]
    }
   ],
   "source": [
    "fig = plt.figure(figsize=(9,4))\n",
    "ax1 = fig.add_subplot(1,2,1)\n",
    "ax2 = fig.add_subplot(1,2,2)\n",
    "\n",
    "# カラーセット\n",
    "colors1 = ('gold', 'coral', 'plum', 'orchid', 'lightseagreen',\n",
    "          'yellowgreen', 'lightskyblue', 'pink', 'cornflowerblue',\n",
    "          'orangered')\n",
    "colors1 = ('coral', 'orangered', 'plum', 'pink', 'gold',\n",
    "          'cornflowerblue', 'yellowgreen', 'lightseagreen', 'cornorchid',\n",
    "          'lightskyblue')\n",
    "\n",
    "\n",
    "ax1.pie(tv_df,\n",
    "       explode=(0, 0, 0, 0, 0, 0, 0.15, 0, 0, 0.15),\n",
    "       labels=tv_df.index,\n",
    "       autopct='%1.0f%%',\n",
    "       colors=colors1,\n",
    "       startrange=90,\n",
    "       counterclock=False)\n",
    "\n",
    "ax2.pie(movie_df,\n",
    "       explode=(0, 0, 0, 0, 0, 0, 0.15, 0, 0, 0.15),\n",
    "       labels=movie_df.index,\n",
    "       autopct='%1.0f%%',\n",
    "       colors=colors2,\n",
    "       counterclock=False)\n",
    "        \n",
    "ax1.set_title('TV')\n",
    "ax2.set_title('Movie')\n",
    "\n",
    "fig.subplots_adjust(wspace=0.3) # サブプロット間のスペース調整\n",
    "\n",
    "plt.show()"
   ]
  },
  {
   "cell_type": "code",
   "execution_count": null,
   "metadata": {
    "collapsed": true
   },
   "outputs": [],
   "source": []
  }
 ],
 "metadata": {
  "kernelspec": {
   "display_name": "Python 3",
   "language": "python",
   "name": "python3"
  },
  "language_info": {
   "codemirror_mode": {
    "name": "ipython",
    "version": 3
   },
   "file_extension": ".py",
   "mimetype": "text/x-python",
   "name": "python",
   "nbconvert_exporter": "python",
   "pygments_lexer": "ipython3",
   "version": "3.6.0"
  }
 },
 "nbformat": 4,
 "nbformat_minor": 2
}
