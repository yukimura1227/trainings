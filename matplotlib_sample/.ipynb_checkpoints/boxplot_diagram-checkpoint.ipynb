{
 "cells": [
  {
   "cell_type": "code",
   "execution_count": null,
   "metadata": {
    "collapsed": true
   },
   "outputs": [],
   "source": [
    "import matplotlib.pyplot as plt\n",
    "import pandas as pd\n",
    "import os\n",
    "plt.style.use('ggplot')"
   ]
  },
  {
   "cell_type": "code",
   "execution_count": null,
   "metadata": {
    "collapsed": false
   },
   "outputs": [],
   "source": [
    "x = [1, 2, 3, 3, 11, 20]\n",
    "\n",
    "fig = plt.figure()\n",
    "ax  = fig.add_subplot(1, 1, 1)\n",
    "\n",
    "ax.boxplot(x)\n",
    "\n",
    "plt.show()"
   ]
  },
  {
   "cell_type": "code",
   "execution_count": null,
   "metadata": {
    "collapsed": false
   },
   "outputs": [],
   "source": [
    "# 複数のリストをリストにセット\n",
    "x = [[1, 2, 3, 3, 11, 20], [1, 2, 9, 10 ,15, 16]]\n",
    "labels = ['A', 'B']\n",
    "\n",
    "fig2 = plt.figure()\n",
    "ax2  = fig2.add_subplot(1, 1, 1)\n",
    "\n",
    "ax2.boxplot(x, labels=labels)\n",
    "\n",
    "plt.show()"
   ]
  },
  {
   "cell_type": "code",
   "execution_count": null,
   "metadata": {
    "collapsed": false
   },
   "outputs": [],
   "source": [
    "df = pd.read_csv('../sample_data/anime_master.csv', index_col='anime_id')\n",
    "\n",
    "df.head()"
   ]
  },
  {
   "cell_type": "code",
   "execution_count": null,
   "metadata": {
    "collapsed": false
   },
   "outputs": [],
   "source": [
    "# 配給種別ごとのエピソードを可視化\n",
    "labels = []\n",
    "types_list = []\n",
    "\n",
    "for label, df_per_type in df.groupby('type'):\n",
    "    labels.append(label)\n",
    "    types_list.append(df_per_type['episodes'].tolist())\n",
    "\n",
    "fig3 = plt.figure()\n",
    "ax3  = fig3.add_subplot(1, 1, 1)\n",
    "\n",
    "ax3.boxplot(types_list, labels = labels)\n",
    "\n",
    "plt.show()"
   ]
  },
  {
   "cell_type": "code",
   "execution_count": null,
   "metadata": {
    "collapsed": false
   },
   "outputs": [],
   "source": [
    "# 描画範囲を限定した箱ひげ図\n",
    "fig4 = plt.figure()\n",
    "ax4  = fig4.add_subplot(1, 1, 1)\n",
    "\n",
    "ax4.boxplot(types_list, labels = labels)\n",
    "\n",
    "# Y軸の描画範囲を0から100までに限定\n",
    "ax4.set_ylim(0, 100)\n",
    "\n",
    "plt.show()"
   ]
  },
  {
   "cell_type": "code",
   "execution_count": null,
   "metadata": {
    "collapsed": false
   },
   "outputs": [],
   "source": [
    "# 四分位点の値を確認\n",
    "df['episodes'][df['type'] == 'TV'].describe().round(1)"
   ]
  },
  {
   "cell_type": "code",
   "execution_count": null,
   "metadata": {
    "collapsed": true
   },
   "outputs": [],
   "source": []
  }
 ],
 "metadata": {
  "kernelspec": {
   "display_name": "Python 3",
   "language": "python",
   "name": "python3"
  },
  "language_info": {
   "codemirror_mode": {
    "name": "ipython",
    "version": 3
   },
   "file_extension": ".py",
   "mimetype": "text/x-python",
   "name": "python",
   "nbconvert_exporter": "python",
   "pygments_lexer": "ipython3",
   "version": "3.6.0"
  }
 },
 "nbformat": 4,
 "nbformat_minor": 2
}
