{
 "cells": [
  {
   "cell_type": "code",
   "execution_count": 1,
   "metadata": {
    "collapsed": false,
    "scrolled": true
   },
   "outputs": [],
   "source": [
    "import matplotlib.pyplot as plt\n",
    "import os\n",
    "import pandas as pd\n",
    "import numpy as np\n"
   ]
  },
  {
   "cell_type": "code",
   "execution_count": 2,
   "metadata": {
    "collapsed": false
   },
   "outputs": [
    {
     "data": {
      "image/png": "[encoded data removed]",
      "text/plain": [
       "<matplotlib.figure.Figure at 0x10cd72978>"
      ]
     },
     "metadata": {},
     "output_type": "display_data"
    }
   ],
   "source": [
    "plt.style.use('ggplot')\n",
    "fig = plt.figure()\n",
    "ax = fig.add_subplot(1, 1, 1)\n",
    "\n",
    "x = [1, 2]\n",
    "y = [1, 3]\n",
    "\n",
    "# ラベルの設定\n",
    "labels = ['appled', 'orange']\n",
    "ax.bar(x, y, tick_label=labels)\n",
    "\n",
    "plt.show()\n"
   ]
  },
  {
   "cell_type": "code",
   "execution_count": 3,
   "metadata": {
    "collapsed": false,
    "scrolled": true
   },
   "outputs": [
    {
     "data": {
      "image/png": "[encoded data removed]",
      "text/plain": [
       "<matplotlib.figure.Figure at 0x10cd72710>"
      ]
     },
     "metadata": {},
     "output_type": "display_data"
    }
   ],
   "source": [
    "# 横向きグラフのsample\n",
    "fig = plt.figure()\n",
    "ax = fig.add_subplot(1, 1, 1)\n",
    "\n",
    "x = [1, 2]\n",
    "y = [1, 3]\n",
    "\n",
    "# ラベルの設定\n",
    "labels = ['appled', 'orange']\n",
    "ax.barh(x, y, tick_label=labels)\n",
    "\n",
    "plt.show()\n"
   ]
  },
  {
   "cell_type": "code",
   "execution_count": 4,
   "metadata": {
    "collapsed": false
   },
   "outputs": [
    {
     "data": {
      "text/html": [
       "<div>\n",
       "<table border=\"1\" class=\"dataframe\">\n",
       "  <thead>\n",
       "    <tr style=\"text-align: right;\">\n",
       "      <th></th>\n",
       "      <th>anime_id</th>\n",
       "      <th>name</th>\n",
       "      <th>genre</th>\n",
       "      <th>type</th>\n",
       "      <th>episodes</th>\n",
       "      <th>rating</th>\n",
       "      <th>members</th>\n",
       "    </tr>\n",
       "  </thead>\n",
       "  <tbody>\n",
       "    <tr>\n",
       "      <th>0</th>\n",
       "      <td>32281</td>\n",
       "      <td>Kimi no Na wa.</td>\n",
       "      <td>Drama, Romance, School, Supernatural</td>\n",
       "      <td>Movie</td>\n",
       "      <td>1</td>\n",
       "      <td>9.37</td>\n",
       "      <td>200630</td>\n",
       "    </tr>\n",
       "    <tr>\n",
       "      <th>1</th>\n",
       "      <td>5114</td>\n",
       "      <td>Fullmetal Alchemist: Brotherhood</td>\n",
       "      <td>Action, Adventure, Drama, Fantasy, Magic, Mili...</td>\n",
       "      <td>TV</td>\n",
       "      <td>64</td>\n",
       "      <td>9.26</td>\n",
       "      <td>793665</td>\n",
       "    </tr>\n",
       "    <tr>\n",
       "      <th>2</th>\n",
       "      <td>28977</td>\n",
       "      <td>Gintama°</td>\n",
       "      <td>Action, Comedy, Historical, Parody, Samurai, S...</td>\n",
       "      <td>TV</td>\n",
       "      <td>51</td>\n",
       "      <td>9.25</td>\n",
       "      <td>114262</td>\n",
       "    </tr>\n",
       "    <tr>\n",
       "      <th>3</th>\n",
       "      <td>9253</td>\n",
       "      <td>Steins;Gate</td>\n",
       "      <td>Sci-Fi, Thriller</td>\n",
       "      <td>TV</td>\n",
       "      <td>24</td>\n",
       "      <td>9.17</td>\n",
       "      <td>673572</td>\n",
       "    </tr>\n",
       "    <tr>\n",
       "      <th>4</th>\n",
       "      <td>9969</td>\n",
       "      <td>Gintama'</td>\n",
       "      <td>Action, Comedy, Historical, Parody, Samurai, S...</td>\n",
       "      <td>TV</td>\n",
       "      <td>51</td>\n",
       "      <td>9.16</td>\n",
       "      <td>151266</td>\n",
       "    </tr>\n",
       "  </tbody>\n",
       "</table>\n",
       "</div>"
      ],
      "text/plain": [
       "   anime_id                              name  \\\n",
       "0     32281                    Kimi no Na wa.   \n",
       "1      5114  Fullmetal Alchemist: Brotherhood   \n",
       "2     28977                          Gintama°   \n",
       "3      9253                       Steins;Gate   \n",
       "4      9969                          Gintama'   \n",
       "\n",
       "                                               genre   type  episodes  rating  \\\n",
       "0               Drama, Romance, School, Supernatural  Movie         1    9.37   \n",
       "1  Action, Adventure, Drama, Fantasy, Magic, Mili...     TV        64    9.26   \n",
       "2  Action, Comedy, Historical, Parody, Samurai, S...     TV        51    9.25   \n",
       "3                                   Sci-Fi, Thriller     TV        24    9.17   \n",
       "4  Action, Comedy, Historical, Parody, Samurai, S...     TV        51    9.16   \n",
       "\n",
       "   members  \n",
       "0   200630  \n",
       "1   793665  \n",
       "2   114262  \n",
       "3   673572  \n",
       "4   151266  "
      ]
     },
     "execution_count": 4,
     "metadata": {},
     "output_type": "execute_result"
    }
   ],
   "source": [
    "dfac = pd.read_csv('../sample_data/anime_master.csv')\n",
    "dfac.head()\n"
   ]
  },
  {
   "cell_type": "code",
   "execution_count": 5,
   "metadata": {
    "collapsed": false
   },
   "outputs": [
    {
     "data": {
      "image/png": "[encoded data removed]",
      "text/plain": [
       "<matplotlib.figure.Figure at 0x1106ca5c0>"
      ]
     },
     "metadata": {},
     "output_type": "display_data"
    }
   ],
   "source": [
    "# 配給種別ごとにメンバ数の合計値を算出して棒グラフにする\n",
    "fig2 = plt.figure()\n",
    "ax2 = fig2.add_subplot(1, 1, 1)\n",
    "\n",
    "y = dfac.groupby('type').sum()['members']\n",
    "type_count = len(y)\n",
    "x = range(type_count)\n",
    "xlabels = y.index\n",
    "\n",
    "ax2.bar(x, y, tick_label=xlabels)\n",
    "ax2.set_ylabel('sum of members')\n",
    "\n",
    "plt.show()\n"
   ]
  },
  {
   "cell_type": "code",
   "execution_count": 6,
   "metadata": {
    "collapsed": false
   },
   "outputs": [
    {
     "data": {
      "image/png": "[encoded data removed]",
      "text/plain": [
       "<matplotlib.figure.Figure at 0x1106ca2b0>"
      ]
     },
     "metadata": {},
     "output_type": "display_data"
    }
   ],
   "source": [
    "# 複数人グループの棒グラフの描画(ダメな例)\n",
    "# データセットの作成\n",
    "x = [1, 2]\n",
    "y1, y2, y3 = [1, 2], [2, 4], [3, 6]\n",
    "\n",
    "# 複数グループの棒グラフの描画\n",
    "fig3 = plt.figure()\n",
    "ax3 = fig3.add_subplot(1, 1, 1)\n",
    "\n",
    "w = 0.2\n",
    "ax3.bar(x, y1, label='y1')\n",
    "ax3.bar(x, y2, label='y2')\n",
    "ax3.bar(x, y3, label='y3')\n",
    "\n",
    "ax3.legend()\n",
    "\n",
    "plt.show()"
   ]
  },
  {
   "cell_type": "code",
   "execution_count": 7,
   "metadata": {
    "collapsed": false
   },
   "outputs": [
    {
     "data": {
      "image/png": "[encoded data removed]",
      "text/plain": [
       "<matplotlib.figure.Figure at 0x11125b7f0>"
      ]
     },
     "metadata": {},
     "output_type": "display_data"
    }
   ],
   "source": [
    "# 複数グループの棒グラフの描画(良いな例)\n",
    "# データセットの作成\n",
    "x = [1, 2]\n",
    "y1, y2, y3 = [1, 2], [2, 4], [3, 6]\n",
    "\n",
    "# 複数グループの棒グラフの描画\n",
    "fig4 = plt.figure()\n",
    "ax4  = fig4.add_subplot(1, 1, 1)\n",
    "\n",
    "w = 0.2\n",
    "ax4.bar(x                  , y1, width = w, label='y1')\n",
    "ax4.bar(np.array(x) + w    , y2, width = w, label='y2')\n",
    "ax4.bar(np.array(x) + w * 2, y3, width = w, label='y3')\n",
    "# 補足: np.array(x) + w とすることで、[1.2, 2.2] の様に幅分だけずらしたx座標を指定している\n",
    "\n",
    "ax4.legend()\n",
    "\n",
    "plt.show()"
   ]
  },
  {
   "cell_type": "code",
   "execution_count": 8,
   "metadata": {
    "collapsed": false
   },
   "outputs": [
    {
     "data": {
      "text/html": [
       "<div>\n",
       "<table border=\"1\" class=\"dataframe\">\n",
       "  <thead>\n",
       "    <tr style=\"text-align: right;\">\n",
       "      <th></th>\n",
       "      <th>Movie</th>\n",
       "      <th>Music</th>\n",
       "      <th>ONA</th>\n",
       "      <th>OVA</th>\n",
       "      <th>Special</th>\n",
       "      <th>TV</th>\n",
       "    </tr>\n",
       "    <tr>\n",
       "      <th>genre</th>\n",
       "      <th></th>\n",
       "      <th></th>\n",
       "      <th></th>\n",
       "      <th></th>\n",
       "      <th></th>\n",
       "      <th></th>\n",
       "    </tr>\n",
       "  </thead>\n",
       "  <tbody>\n",
       "    <tr>\n",
       "      <th>Comedy</th>\n",
       "      <td>7293127.0</td>\n",
       "      <td>20860.0</td>\n",
       "      <td>1477266.0</td>\n",
       "      <td>5614758.0</td>\n",
       "      <td>6659293.0</td>\n",
       "      <td>65420862.0</td>\n",
       "    </tr>\n",
       "    <tr>\n",
       "      <th>Action</th>\n",
       "      <td>10224960.0</td>\n",
       "      <td>77054.0</td>\n",
       "      <td>524907.0</td>\n",
       "      <td>5793680.0</td>\n",
       "      <td>3412689.0</td>\n",
       "      <td>63364032.0</td>\n",
       "    </tr>\n",
       "    <tr>\n",
       "      <th>Drama</th>\n",
       "      <td>9034099.0</td>\n",
       "      <td>100734.0</td>\n",
       "      <td>188427.0</td>\n",
       "      <td>3043374.0</td>\n",
       "      <td>1915578.0</td>\n",
       "      <td>41011557.0</td>\n",
       "    </tr>\n",
       "    <tr>\n",
       "      <th>Romance</th>\n",
       "      <td>5245386.0</td>\n",
       "      <td>42811.0</td>\n",
       "      <td>411331.0</td>\n",
       "      <td>3143167.0</td>\n",
       "      <td>2015820.0</td>\n",
       "      <td>40703388.0</td>\n",
       "    </tr>\n",
       "    <tr>\n",
       "      <th>Supernatural</th>\n",
       "      <td>5452779.0</td>\n",
       "      <td>9189.0</td>\n",
       "      <td>192989.0</td>\n",
       "      <td>2696715.0</td>\n",
       "      <td>2336723.0</td>\n",
       "      <td>38956520.0</td>\n",
       "    </tr>\n",
       "    <tr>\n",
       "      <th>Fantasy</th>\n",
       "      <td>8019406.0</td>\n",
       "      <td>43962.0</td>\n",
       "      <td>188937.0</td>\n",
       "      <td>2754224.0</td>\n",
       "      <td>2504131.0</td>\n",
       "      <td>34932563.0</td>\n",
       "    </tr>\n",
       "    <tr>\n",
       "      <th>Shounen</th>\n",
       "      <td>5698808.0</td>\n",
       "      <td>NaN</td>\n",
       "      <td>97833.0</td>\n",
       "      <td>3861296.0</td>\n",
       "      <td>2591988.0</td>\n",
       "      <td>35532847.0</td>\n",
       "    </tr>\n",
       "    <tr>\n",
       "      <th>School</th>\n",
       "      <td>1512533.0</td>\n",
       "      <td>5496.0</td>\n",
       "      <td>523223.0</td>\n",
       "      <td>2417660.0</td>\n",
       "      <td>2661425.0</td>\n",
       "      <td>35489099.0</td>\n",
       "    </tr>\n",
       "    <tr>\n",
       "      <th>Adventure</th>\n",
       "      <td>9485223.0</td>\n",
       "      <td>42829.0</td>\n",
       "      <td>70431.0</td>\n",
       "      <td>2373765.0</td>\n",
       "      <td>2052024.0</td>\n",
       "      <td>27529975.0</td>\n",
       "    </tr>\n",
       "    <tr>\n",
       "      <th>Sci-Fi</th>\n",
       "      <td>6967146.0</td>\n",
       "      <td>154801.0</td>\n",
       "      <td>415311.0</td>\n",
       "      <td>3358525.0</td>\n",
       "      <td>1616450.0</td>\n",
       "      <td>28072322.0</td>\n",
       "    </tr>\n",
       "  </tbody>\n",
       "</table>\n",
       "</div>"
      ],
      "text/plain": [
       "                   Movie     Music        ONA        OVA    Special  \\\n",
       "genre                                                                 \n",
       "Comedy         7293127.0   20860.0  1477266.0  5614758.0  6659293.0   \n",
       "Action        10224960.0   77054.0   524907.0  5793680.0  3412689.0   \n",
       "Drama          9034099.0  100734.0   188427.0  3043374.0  1915578.0   \n",
       "Romance        5245386.0   42811.0   411331.0  3143167.0  2015820.0   \n",
       "Supernatural   5452779.0    9189.0   192989.0  2696715.0  2336723.0   \n",
       "Fantasy        8019406.0   43962.0   188937.0  2754224.0  2504131.0   \n",
       "Shounen        5698808.0       NaN    97833.0  3861296.0  2591988.0   \n",
       "School         1512533.0    5496.0   523223.0  2417660.0  2661425.0   \n",
       "Adventure      9485223.0   42829.0    70431.0  2373765.0  2052024.0   \n",
       "Sci-Fi         6967146.0  154801.0   415311.0  3358525.0  1616450.0   \n",
       "\n",
       "                      TV  \n",
       "genre                     \n",
       "Comedy        65420862.0  \n",
       "Action        63364032.0  \n",
       "Drama         41011557.0  \n",
       "Romance       40703388.0  \n",
       "Supernatural  38956520.0  \n",
       "Fantasy       34932563.0  \n",
       "Shounen       35532847.0  \n",
       "School        35489099.0  \n",
       "Adventure     27529975.0  \n",
       "Sci-Fi        28072322.0  "
      ]
     },
     "execution_count": 8,
     "metadata": {},
     "output_type": "execute_result"
    }
   ],
   "source": [
    "dfag = pd.read_csv('../sample_data/anime_genre_top10_pivoted.csv', index_col='genre')\n",
    "\n",
    "dfag"
   ]
  },
  {
   "cell_type": "code",
   "execution_count": 9,
   "metadata": {
    "collapsed": false
   },
   "outputs": [
    {
     "data": {
      "image/png": "[encoded data removed]",
      "text/plain": [
       "<matplotlib.figure.Figure at 0x11146c6a0>"
      ]
     },
     "metadata": {},
     "output_type": "display_data"
    }
   ],
   "source": [
    "# 複数グループの棒グラフの描画(配給種別、ジャンル別グラフの描画)\n",
    "\n",
    "fig5 = plt.figure(figsize=(18, 3))\n",
    "ax5 = fig5.add_subplot(1, 1, 1)\n",
    "\n",
    "wt = np.array(range(len(dfag)))\n",
    "w = 0.1\n",
    "\n",
    "for i in dfag.columns:\n",
    "  ax5.bar(wt, dfag[i], width=w, label=i)\n",
    "  wt = wt + w\n",
    "\n",
    "ax5.set_xticks(np.array(range(len(dfag)+2)))\n",
    "ax5.set_xticklabels(dfag.index, ha='left')\n",
    "ax5.set_ylabel('のべメンバ数')\n",
    "\n",
    "ax5.legend()\n",
    "\n",
    "plt.show()"
   ]
  },
  {
   "cell_type": "code",
   "execution_count": 10,
   "metadata": {
    "collapsed": false
   },
   "outputs": [
    {
     "data": {
      "image/png": "[encoded data removed]",
      "text/plain": [
       "<matplotlib.figure.Figure at 0x11138c5f8>"
      ]
     },
     "metadata": {},
     "output_type": "display_data"
    }
   ],
   "source": [
    "# 複数グループの棒グラフの描画(配給種別、ジャンル別グラフの描画 log scale)\n",
    "\n",
    "fig6 = plt.figure(figsize=(18, 3))\n",
    "ax6 = fig6.add_subplot(1, 1, 1)\n",
    "\n",
    "wt = np.array(range(len(dfag)))\n",
    "w = 0.1\n",
    "\n",
    "for i in dfag.columns:\n",
    "  ax6.bar(wt, dfag[i], width=w, label=i)\n",
    "  wt = wt + w\n",
    "\n",
    "ax6.set_xticks(np.array(range(len(dfag)+2)))\n",
    "ax6.set_xticklabels(dfag.index, ha='left')\n",
    "ax6.set_ylabel('のべメンバ数')\n",
    "ax6.set_yscale('log')\n",
    "\n",
    "ax6.legend()\n",
    "\n",
    "plt.show()"
   ]
  },
  {
   "cell_type": "code",
   "execution_count": null,
   "metadata": {
    "collapsed": true
   },
   "outputs": [],
   "source": []
  }
 ],
 "metadata": {
  "kernelspec": {
   "display_name": "Python 3",
   "language": "python",
   "name": "python3"
  },
  "language_info": {
   "codemirror_mode": {
    "name": "ipython",
    "version": 3
   },
   "file_extension": ".py",
   "mimetype": "text/x-python",
   "name": "python",
   "nbconvert_exporter": "python",
   "pygments_lexer": "ipython3",
   "version": "3.6.0"
  }
 },
 "nbformat": 4,
 "nbformat_minor": 2
}
